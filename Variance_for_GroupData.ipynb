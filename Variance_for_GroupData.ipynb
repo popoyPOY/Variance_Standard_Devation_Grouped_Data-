{
 "cells": [
  {
   "cell_type": "code",
   "execution_count": 57,
   "id": "86887262",
   "metadata": {},
   "outputs": [],
   "source": [
    "\n",
    "group_data_1 = [60, 52, 44, 36, 28, 20]\n",
    "group_data_2 = [67, 59, 51, 43, 35, 27]\n",
    "\n",
    "X = []\n",
    "c = 0\n",
    "for x in group_data_1:\n",
    "    #print(group_data_2[c])\n",
    "    b = (x + group_data_2[c]) / 2\n",
    "    c +=1 \n",
    "    X.append(b)\n"
   ]
  },
  {
   "cell_type": "code",
   "execution_count": 58,
   "id": "974c9e07",
   "metadata": {},
   "outputs": [],
   "source": [
    "#Solving the fX\n",
    "frequency = [2, 2, 6, 10, 7, 3]\n",
    "#print(X)\n",
    "fX = []\n",
    "m = 0\n",
    "for k in frequency:\n",
    "    b = (k * X[m])\n",
    "    m +=1 \n",
    "    fX.append(b)"
   ]
  },
  {
   "cell_type": "code",
   "execution_count": 92,
   "id": "ccf4837e",
   "metadata": {},
   "outputs": [],
   "source": [
    "#This Section is about solving mean, squared_devation, devation, frequency_sum, fX_sum\n",
    "\n",
    "fX_sum = sum(fX)\n",
    "frequency_sum = sum(frequency)\n",
    "\n",
    "mean = fX_sum / frequency_sum\n",
    "\n",
    "devation = [element - mean for element in X]\n",
    "\n",
    "\n",
    "sqrd_devation = []\n",
    "\n",
    "for p in devation:\n",
    "    a = abs(p)\n",
    "    l = a * a\n",
    "    sqrd_devation.append(l)\n",
    "\n",
    "    "
   ]
  },
  {
   "cell_type": "code",
   "execution_count": 103,
   "id": "1fca6db2",
   "metadata": {},
   "outputs": [
    {
     "name": "stdout",
     "output_type": "stream",
     "text": [
      "111.89\n"
     ]
    }
   ],
   "source": [
    "#Multiply sqrd_devation to frequency\n",
    "\n",
    "result = []\n",
    "count = 0\n",
    "for x in sqrd_devation:\n",
    "    l = x * frequency[count]\n",
    "    count += 1\n",
    "    result.append(l)\n",
    "    \n",
    "    \n",
    "sum_result = sum(result)\n",
    "\n",
    "\n"
   ]
  },
  {
   "cell_type": "code",
   "execution_count": 106,
   "id": "dc8866a4",
   "metadata": {},
   "outputs": [
    {
     "name": "stdout",
     "output_type": "stream",
     "text": [
      "10.58 111.89\n"
     ]
    }
   ],
   "source": [
    "from math import sqrt\n",
    "#Solving for Variance\n",
    "\n",
    "Variance = round(sum_result / (frequency_sum - 1), 2)\n",
    "\n",
    "#Solving for Standard Devation\n",
    "\n",
    "Standard_Devation = round(sqrt(Variance), 2)\n",
    "print(Standard_Devation, Variance)"
   ]
  },
  {
   "cell_type": "code",
   "execution_count": 107,
   "id": "57eb0514",
   "metadata": {},
   "outputs": [],
   "source": [
    "#Important Variables:\n",
    "#group_data_1 is the first number of the class limit, example \"60-67\", group_data_1 will be 60.\n",
    "#group_data_2 is the second number of the class limit, example \"60-67\", group_data_2 will be 67.\n",
    "\n",
    "# X - is the value when you add group_data_1 and group_data_2 then divide by 2.\n",
    "\n",
    "# frequency - the frequency of each data.\n",
    "\n",
    "# fX - is the result when you multiple the frequency and X.\n",
    "\n",
    "# mean - sum of fX divide by sum of frequency.\n",
    "\n",
    "# devation - subtraction of X and mean.\n",
    "\n",
    "# sqrd_devation - devation multiply by itself or squaring the devation.\n",
    "\n",
    "# result - multiplying sqrd_devation and frequency.\n",
    "\n",
    "# Variance - dividing the sum of result and sum of frequency subtract by 1.\n",
    "\n",
    "# Standard_Devation - square root of Variance.\n",
    "\n"
   ]
  },
  {
   "cell_type": "code",
   "execution_count": null,
   "id": "1f0e6bcf",
   "metadata": {},
   "outputs": [],
   "source": []
  }
 ],
 "metadata": {
  "kernelspec": {
   "display_name": "Python 3",
   "language": "python",
   "name": "python3"
  },
  "language_info": {
   "codemirror_mode": {
    "name": "ipython",
    "version": 3
   },
   "file_extension": ".py",
   "mimetype": "text/x-python",
   "name": "python",
   "nbconvert_exporter": "python",
   "pygments_lexer": "ipython3",
   "version": "3.6.13"
  }
 },
 "nbformat": 4,
 "nbformat_minor": 5
}
